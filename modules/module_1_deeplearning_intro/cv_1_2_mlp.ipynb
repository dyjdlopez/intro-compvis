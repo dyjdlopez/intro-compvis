{
  "nbformat": 4,
  "nbformat_minor": 0,
  "metadata": {
    "colab": {
      "provenance": [],
      "authorship_tag": "ABX9TyMlqVVXG3tK7QbdXBEYgNbd",
      "include_colab_link": true
    },
    "kernelspec": {
      "name": "python3",
      "display_name": "Python 3"
    },
    "language_info": {
      "name": "python"
    }
  },
  "cells": [
    {
      "cell_type": "markdown",
      "metadata": {
        "id": "view-in-github",
        "colab_type": "text"
      },
      "source": [
        "<a href=\"https://colab.research.google.com/github/dyjdlopez/intro-compvis/blob/main/modules/module_1_deeplearning_intro/cv_1_2_mlp.ipynb\" target=\"_parent\"><img src=\"https://colab.research.google.com/assets/colab-badge.svg\" alt=\"Open In Colab\"/></a>"
      ]
    },
    {
      "cell_type": "code",
      "execution_count": 1,
      "metadata": {
        "id": "Z2vaTY33LHBc"
      },
      "outputs": [],
      "source": [
        "#@title Licensed under the Apache License, Version 2.0 (the \"License\");\n",
        "# you may not use this file except in compliance with the License.\n",
        "# You may obtain a copy of the License at\n",
        "#\n",
        "# https://www.apache.org/licenses/LICENSE-2.0\n",
        "#\n",
        "# Unless required by applicable law or agreed to in writing, software\n",
        "# distributed under the License is distributed on an \"AS IS\" BASIS,\n",
        "# WITHOUT WARRANTIES OR CONDITIONS OF ANY KIND, either express or implied.\n",
        "# See the License for the specific language governing permissions and\n",
        "# limitations under the License."
      ]
    },
    {
      "cell_type": "markdown",
      "source": [
        "# Fundamentals of TensorFlow\n",
        "Copyright D.Lopez 2024 | All Rights reserved <br><br>\n",
        "\n",
        "[TensorFlow](https://www.tensorflow.org/) is an end-to-end open source platform for machine learning. It has a comprehensive, flexible ecosystem of tools, libraries and community resources that lets researchers push the state-of-the-art in ML and developers easily build and deploy ML powered applications.<br>\n",
        "TensorFlow provides several APIs that allow developers to develop a range of AI Apps from data estimation, computer vision, natural language processing, and even reinforcement learning.\n",
        "![image](https://www.tensorflow.org/static/images/tf_logo_social.png)<br>\n",
        "\n",
        "\n",
        "\n"
      ],
      "metadata": {
        "id": "RbRZXRIXLLmF"
      }
    },
    {
      "cell_type": "code",
      "source": [
        "# !pip install tensorflow\n",
        "import tensorflow as tf\n",
        "import numpy as np\n",
        "import cv2\n",
        "import matplotlib.pyplot as plt\n"
      ],
      "metadata": {
        "id": "39sHTZnaLK3g"
      },
      "execution_count": 2,
      "outputs": []
    },
    {
      "cell_type": "markdown",
      "source": [
        "## Part 1 Tensor Operations\n",
        "TensorFlow mainly operates using tensors (as its name suggests), so let’s try to use our current knowledge about tensors and apply it to our current platform."
      ],
      "metadata": {
        "id": "8GBkEjZzLbvS"
      }
    },
    {
      "cell_type": "markdown",
      "source": [
        "### 1.1 NumPy and TensorFlow\n",
        "If you have enjoyed using matrices and tensors in NumPy, then performing tensor algebra in TensorFlow will just be a breeze."
      ],
      "metadata": {
        "id": "cLzSNJLWLhWZ"
      }
    },
    {
      "cell_type": "code",
      "source": [
        "np_tensor = np.array(3)\n",
        "tf_tensor = tf.constant(3)\n",
        "\n",
        "print(np_tensor)\n",
        "print(tf_tensor)"
      ],
      "metadata": {
        "colab": {
          "base_uri": "https://localhost:8080/"
        },
        "id": "pUMGWSabLaKu",
        "outputId": "5b0cd2b9-c21d-4c5a-a84d-6406fe16b7b2"
      },
      "execution_count": 3,
      "outputs": [
        {
          "output_type": "stream",
          "name": "stdout",
          "text": [
            "3\n",
            "tf.Tensor(3, shape=(), dtype=int32)\n"
          ]
        }
      ]
    },
    {
      "cell_type": "code",
      "source": [
        "np_mat = np.array([\n",
        "                   [1,2],\n",
        "                   [3,1]\n",
        "], dtype=float)\n",
        "tf_mat = tf.constant([\n",
        "                      [1,2],\n",
        "                      [3,1]\n",
        "], dtype=float)\n",
        "print(np_mat)\n",
        "print(tf_mat)"
      ],
      "metadata": {
        "colab": {
          "base_uri": "https://localhost:8080/"
        },
        "id": "Np-vskh_LjBo",
        "outputId": "cd4c09de-9c03-464c-f281-fdd93482d837"
      },
      "execution_count": 4,
      "outputs": [
        {
          "output_type": "stream",
          "name": "stdout",
          "text": [
            "[[1. 2.]\n",
            " [3. 1.]]\n",
            "tf.Tensor(\n",
            "[[1. 2.]\n",
            " [3. 1.]], shape=(2, 2), dtype=float32)\n"
          ]
        }
      ]
    },
    {
      "cell_type": "code",
      "source": [
        "type(tf_mat.numpy())"
      ],
      "metadata": {
        "colab": {
          "base_uri": "https://localhost:8080/"
        },
        "id": "5f2KzM-tLj-u",
        "outputId": "1561d601-c207-4076-e232-e4a8aee1298d"
      },
      "execution_count": 5,
      "outputs": [
        {
          "output_type": "execute_result",
          "data": {
            "text/plain": [
              "numpy.ndarray"
            ]
          },
          "metadata": {},
          "execution_count": 5
        }
      ]
    },
    {
      "cell_type": "code",
      "source": [
        "A = tf_mat\n",
        "B = tf.transpose(tf_mat)\n",
        "print(f\"Matrix A: \\n{A}\")\n",
        "print(f\"Matrix B: \\n{B}\")\n",
        "print(f\"Sum of Tensors: \\n{A+B}\")\n",
        "print(f\"Difference of Tensors: \\n{A-B}\")\n",
        "print(f\"Product of Tensors: \\n{A*B}\")"
      ],
      "metadata": {
        "colab": {
          "base_uri": "https://localhost:8080/"
        },
        "id": "rpfYxh3ALmcw",
        "outputId": "123a5bae-60b7-4fcb-f929-6dd9a5ffedda"
      },
      "execution_count": 6,
      "outputs": [
        {
          "output_type": "stream",
          "name": "stdout",
          "text": [
            "Matrix A: \n",
            "[[1. 2.]\n",
            " [3. 1.]]\n",
            "Matrix B: \n",
            "[[1. 3.]\n",
            " [2. 1.]]\n",
            "Sum of Tensors: \n",
            "[[2. 5.]\n",
            " [5. 2.]]\n",
            "Difference of Tensors: \n",
            "[[ 0. -1.]\n",
            " [ 1.  0.]]\n",
            "Product of Tensors: \n",
            "[[1. 6.]\n",
            " [6. 1.]]\n"
          ]
        }
      ]
    },
    {
      "cell_type": "code",
      "source": [
        "print(f\"Dot Product of Tensors: \\n{A@B}\")"
      ],
      "metadata": {
        "colab": {
          "base_uri": "https://localhost:8080/"
        },
        "id": "RiPiVwQKLngD",
        "outputId": "fb3dd368-256e-4dd5-f6ab-0f14a4da96ae"
      },
      "execution_count": 7,
      "outputs": [
        {
          "output_type": "stream",
          "name": "stdout",
          "text": [
            "Dot Product of Tensors: \n",
            "[[ 5.  5.]\n",
            " [ 5. 10.]]\n"
          ]
        }
      ]
    },
    {
      "cell_type": "code",
      "source": [
        "C = tf.reshape(A, [4,1])\n",
        "C"
      ],
      "metadata": {
        "colab": {
          "base_uri": "https://localhost:8080/"
        },
        "id": "ajVWs9kJLpA7",
        "outputId": "ebaa10c1-feb3-4ec7-bb11-e4500cc01102"
      },
      "execution_count": 8,
      "outputs": [
        {
          "output_type": "execute_result",
          "data": {
            "text/plain": [
              "<tf.Tensor: shape=(4, 1), dtype=float32, numpy=\n",
              "array([[1.],\n",
              "       [2.],\n",
              "       [3.],\n",
              "       [1.]], dtype=float32)>"
            ]
          },
          "metadata": {},
          "execution_count": 8
        }
      ]
    },
    {
      "cell_type": "markdown",
      "source": [
        "## Part 2: Machine Learning Revisited\n",
        "As we recall, machine learning takes in data and a program to produce a rule or determine a pattern as opposed with traditional program that requires a pattern or rule together with the data to create a working system.\n",
        "\n",
        "Machine learning can be further classified into several cognitive paradigms:\n",
        "\n",
        "<b>Supervised learning</b>— is a type of machine learning that requires input data to have a feature and a label or the typical X data and y label format. Supervised learning requires its dataset to be:\n",
        "* Large (Volume)\n",
        "* Various\n",
        "* Valid\n",
        "\n",
        "<b>Unsupervised learning</b>—unlike input data from supervised learning, unsupervised learning data doesn't have labels. Unsupervised learning aims to find patterns in unexplored data. Typical applications of unsupervised learning include dimension reduction and clustering.\n",
        "\n",
        "<b>Reinforcement learning</b>—the inputs for a reinforcement learning algorithm require the little to n the form of a dataset) to succeed in education. Reinforcement learning aims to learn a rule, policy, or “way to do stuff” by determining whether its algorithm rewards or punishes its actions for a particular environment. The common uses of reinforcement learning included optimization.\n",
        "\n",
        "We will focus on supervised learning using Deep Neural Networks in the succeeding topics."
      ],
      "metadata": {
        "id": "cvzevD0FLy-_"
      }
    },
    {
      "cell_type": "markdown",
      "source": [
        "### 2.1 The Neuron (Again)\n",
        "![image](https://svitla.com/uploads/ckeditor/ArtificialNeuronModel_english.jpg)<br>\n",
        "\n",
        "Recalling our last discussion with the neuron, we discovered that it is a neural network's basic unit. The learning process of the neuron consists of a feed-forward propagation in which it takes in several inputs which it is multiplied by some weights and fed into a transfer function and then subjected to an activation function and a backward propagation routine where it computes for the loss and cost of a neuron and uses the error value to update the weights and repeating until it converges (or even diverge) to a certain period of training."
      ],
      "metadata": {
        "id": "KDiTVBWpL1Gw"
      }
    },
    {
      "cell_type": "code",
      "source": [
        "#Features\n",
        "X = np.arange(-1,5,dtype=float)\n",
        "def fx(x): return 2*x-1\n",
        "#Targets/Labels\n",
        "y = np.array(list(map(fx,X)))"
      ],
      "metadata": {
        "id": "jWDF4EbOLqAH"
      },
      "execution_count": 9,
      "outputs": []
    },
    {
      "cell_type": "code",
      "source": [
        "print(X)\n",
        "print(y)"
      ],
      "metadata": {
        "colab": {
          "base_uri": "https://localhost:8080/"
        },
        "id": "KxIX3eLlL5lh",
        "outputId": "fc565057-e168-47c5-94a6-9c1fdf46abeb"
      },
      "execution_count": 10,
      "outputs": [
        {
          "output_type": "stream",
          "name": "stdout",
          "text": [
            "[-1.  0.  1.  2.  3.  4.]\n",
            "[-3. -1.  1.  3.  5.  7.]\n"
          ]
        }
      ]
    },
    {
      "cell_type": "code",
      "source": [
        "from tensorflow.keras.optimizers import Adam, SGD, RMSprop\n",
        "from tensorflow.keras.losses import MSE, MAE"
      ],
      "metadata": {
        "id": "XghrG7EAL6qU"
      },
      "execution_count": 11,
      "outputs": []
    },
    {
      "cell_type": "code",
      "source": [
        "### Dense Layer\n",
        "model = tf.keras.Sequential([\n",
        "                             tf.keras.layers.Dense(units=1, input_shape=[1])\n",
        "])\n",
        "lr=0.01\n",
        "model.compile(optimizer=SGD(learning_rate=lr),\n",
        "              loss=MSE)\n",
        "model.summary()"
      ],
      "metadata": {
        "colab": {
          "base_uri": "https://localhost:8080/"
        },
        "id": "hPRscAUsL75p",
        "outputId": "fe82c90d-1d70-4a46-e5f9-2f6a42977b33"
      },
      "execution_count": 12,
      "outputs": [
        {
          "output_type": "stream",
          "name": "stdout",
          "text": [
            "Model: \"sequential\"\n",
            "_________________________________________________________________\n",
            " Layer (type)                Output Shape              Param #   \n",
            "=================================================================\n",
            " dense (Dense)               (None, 1)                 2         \n",
            "                                                                 \n",
            "=================================================================\n",
            "Total params: 2 (8.00 Byte)\n",
            "Trainable params: 2 (8.00 Byte)\n",
            "Non-trainable params: 0 (0.00 Byte)\n",
            "_________________________________________________________________\n"
          ]
        }
      ]
    },
    {
      "cell_type": "code",
      "source": [
        "history1 = model.fit(X,y,epochs=200)"
      ],
      "metadata": {
        "colab": {
          "base_uri": "https://localhost:8080/"
        },
        "id": "Rrk_jeuKL9Vh",
        "outputId": "2aa96d34-6d65-4d95-c73a-16ed330ada21"
      },
      "execution_count": 13,
      "outputs": [
        {
          "output_type": "stream",
          "name": "stdout",
          "text": [
            "Epoch 1/200\n",
            "1/1 [==============================] - 1s 596ms/step - loss: 19.8168\n",
            "Epoch 2/200\n",
            "1/1 [==============================] - 0s 14ms/step - loss: 15.8563\n",
            "Epoch 3/200\n",
            "1/1 [==============================] - 0s 13ms/step - loss: 12.7349\n",
            "Epoch 4/200\n",
            "1/1 [==============================] - 0s 14ms/step - loss: 10.2738\n",
            "Epoch 5/200\n",
            "1/1 [==============================] - 0s 20ms/step - loss: 8.3323\n",
            "Epoch 6/200\n",
            "1/1 [==============================] - 0s 15ms/step - loss: 6.7997\n",
            "Epoch 7/200\n",
            "1/1 [==============================] - 0s 18ms/step - loss: 5.5889\n",
            "Epoch 8/200\n",
            "1/1 [==============================] - 0s 16ms/step - loss: 4.6314\n",
            "Epoch 9/200\n",
            "1/1 [==============================] - 0s 9ms/step - loss: 3.8733\n",
            "Epoch 10/200\n",
            "1/1 [==============================] - 0s 9ms/step - loss: 3.2721\n",
            "Epoch 11/200\n",
            "1/1 [==============================] - 0s 10ms/step - loss: 2.7945\n",
            "Epoch 12/200\n",
            "1/1 [==============================] - 0s 9ms/step - loss: 2.4142\n",
            "Epoch 13/200\n",
            "1/1 [==============================] - 0s 10ms/step - loss: 2.1106\n",
            "Epoch 14/200\n",
            "1/1 [==============================] - 0s 9ms/step - loss: 1.8674\n",
            "Epoch 15/200\n",
            "1/1 [==============================] - 0s 9ms/step - loss: 1.6718\n",
            "Epoch 16/200\n",
            "1/1 [==============================] - 0s 8ms/step - loss: 1.5138\n",
            "Epoch 17/200\n",
            "1/1 [==============================] - 0s 9ms/step - loss: 1.3854\n",
            "Epoch 18/200\n",
            "1/1 [==============================] - 0s 7ms/step - loss: 1.2803\n",
            "Epoch 19/200\n",
            "1/1 [==============================] - 0s 11ms/step - loss: 1.1938\n",
            "Epoch 20/200\n",
            "1/1 [==============================] - 0s 8ms/step - loss: 1.1219\n",
            "Epoch 21/200\n",
            "1/1 [==============================] - 0s 8ms/step - loss: 1.0616\n",
            "Epoch 22/200\n",
            "1/1 [==============================] - 0s 8ms/step - loss: 1.0104\n",
            "Epoch 23/200\n",
            "1/1 [==============================] - 0s 8ms/step - loss: 0.9666\n",
            "Epoch 24/200\n",
            "1/1 [==============================] - 0s 8ms/step - loss: 0.9286\n",
            "Epoch 25/200\n",
            "1/1 [==============================] - 0s 7ms/step - loss: 0.8952\n",
            "Epoch 26/200\n",
            "1/1 [==============================] - 0s 8ms/step - loss: 0.8656\n",
            "Epoch 27/200\n",
            "1/1 [==============================] - 0s 9ms/step - loss: 0.8390\n",
            "Epoch 28/200\n",
            "1/1 [==============================] - 0s 9ms/step - loss: 0.8148\n",
            "Epoch 29/200\n",
            "1/1 [==============================] - 0s 8ms/step - loss: 0.7926\n",
            "Epoch 30/200\n",
            "1/1 [==============================] - 0s 8ms/step - loss: 0.7720\n",
            "Epoch 31/200\n",
            "1/1 [==============================] - 0s 7ms/step - loss: 0.7527\n",
            "Epoch 32/200\n",
            "1/1 [==============================] - 0s 7ms/step - loss: 0.7346\n",
            "Epoch 33/200\n",
            "1/1 [==============================] - 0s 12ms/step - loss: 0.7174\n",
            "Epoch 34/200\n",
            "1/1 [==============================] - 0s 7ms/step - loss: 0.7010\n",
            "Epoch 35/200\n",
            "1/1 [==============================] - 0s 7ms/step - loss: 0.6853\n",
            "Epoch 36/200\n",
            "1/1 [==============================] - 0s 14ms/step - loss: 0.6702\n",
            "Epoch 37/200\n",
            "1/1 [==============================] - 0s 7ms/step - loss: 0.6557\n",
            "Epoch 38/200\n",
            "1/1 [==============================] - 0s 7ms/step - loss: 0.6416\n",
            "Epoch 39/200\n",
            "1/1 [==============================] - 0s 9ms/step - loss: 0.6279\n",
            "Epoch 40/200\n",
            "1/1 [==============================] - 0s 6ms/step - loss: 0.6146\n",
            "Epoch 41/200\n",
            "1/1 [==============================] - 0s 9ms/step - loss: 0.6017\n",
            "Epoch 42/200\n",
            "1/1 [==============================] - 0s 6ms/step - loss: 0.5891\n",
            "Epoch 43/200\n",
            "1/1 [==============================] - 0s 12ms/step - loss: 0.5768\n",
            "Epoch 44/200\n",
            "1/1 [==============================] - 0s 6ms/step - loss: 0.5648\n",
            "Epoch 45/200\n",
            "1/1 [==============================] - 0s 7ms/step - loss: 0.5531\n",
            "Epoch 46/200\n",
            "1/1 [==============================] - 0s 9ms/step - loss: 0.5416\n",
            "Epoch 47/200\n",
            "1/1 [==============================] - 0s 9ms/step - loss: 0.5304\n",
            "Epoch 48/200\n",
            "1/1 [==============================] - 0s 7ms/step - loss: 0.5195\n",
            "Epoch 49/200\n",
            "1/1 [==============================] - 0s 21ms/step - loss: 0.5087\n",
            "Epoch 50/200\n",
            "1/1 [==============================] - 0s 9ms/step - loss: 0.4983\n",
            "Epoch 51/200\n",
            "1/1 [==============================] - 0s 7ms/step - loss: 0.4880\n",
            "Epoch 52/200\n",
            "1/1 [==============================] - 0s 9ms/step - loss: 0.4779\n",
            "Epoch 53/200\n",
            "1/1 [==============================] - 0s 8ms/step - loss: 0.4681\n",
            "Epoch 54/200\n",
            "1/1 [==============================] - 0s 7ms/step - loss: 0.4585\n",
            "Epoch 55/200\n",
            "1/1 [==============================] - 0s 8ms/step - loss: 0.4491\n",
            "Epoch 56/200\n",
            "1/1 [==============================] - 0s 8ms/step - loss: 0.4398\n",
            "Epoch 57/200\n",
            "1/1 [==============================] - 0s 10ms/step - loss: 0.4308\n",
            "Epoch 58/200\n",
            "1/1 [==============================] - 0s 10ms/step - loss: 0.4219\n",
            "Epoch 59/200\n",
            "1/1 [==============================] - 0s 6ms/step - loss: 0.4133\n",
            "Epoch 60/200\n",
            "1/1 [==============================] - 0s 15ms/step - loss: 0.4048\n",
            "Epoch 61/200\n",
            "1/1 [==============================] - 0s 8ms/step - loss: 0.3964\n",
            "Epoch 62/200\n",
            "1/1 [==============================] - 0s 7ms/step - loss: 0.3883\n",
            "Epoch 63/200\n",
            "1/1 [==============================] - 0s 8ms/step - loss: 0.3803\n",
            "Epoch 64/200\n",
            "1/1 [==============================] - 0s 8ms/step - loss: 0.3725\n",
            "Epoch 65/200\n",
            "1/1 [==============================] - 0s 8ms/step - loss: 0.3649\n",
            "Epoch 66/200\n",
            "1/1 [==============================] - 0s 9ms/step - loss: 0.3574\n",
            "Epoch 67/200\n",
            "1/1 [==============================] - 0s 8ms/step - loss: 0.3500\n",
            "Epoch 68/200\n",
            "1/1 [==============================] - 0s 7ms/step - loss: 0.3428\n",
            "Epoch 69/200\n",
            "1/1 [==============================] - 0s 6ms/step - loss: 0.3358\n",
            "Epoch 70/200\n",
            "1/1 [==============================] - 0s 8ms/step - loss: 0.3289\n",
            "Epoch 71/200\n",
            "1/1 [==============================] - 0s 8ms/step - loss: 0.3221\n",
            "Epoch 72/200\n",
            "1/1 [==============================] - 0s 10ms/step - loss: 0.3155\n",
            "Epoch 73/200\n",
            "1/1 [==============================] - 0s 7ms/step - loss: 0.3090\n",
            "Epoch 74/200\n",
            "1/1 [==============================] - 0s 12ms/step - loss: 0.3027\n",
            "Epoch 75/200\n",
            "1/1 [==============================] - 0s 7ms/step - loss: 0.2965\n",
            "Epoch 76/200\n",
            "1/1 [==============================] - 0s 7ms/step - loss: 0.2904\n",
            "Epoch 77/200\n",
            "1/1 [==============================] - 0s 8ms/step - loss: 0.2844\n",
            "Epoch 78/200\n",
            "1/1 [==============================] - 0s 8ms/step - loss: 0.2786\n",
            "Epoch 79/200\n",
            "1/1 [==============================] - 0s 7ms/step - loss: 0.2729\n",
            "Epoch 80/200\n",
            "1/1 [==============================] - 0s 6ms/step - loss: 0.2672\n",
            "Epoch 81/200\n",
            "1/1 [==============================] - 0s 9ms/step - loss: 0.2618\n",
            "Epoch 82/200\n",
            "1/1 [==============================] - 0s 9ms/step - loss: 0.2564\n",
            "Epoch 83/200\n",
            "1/1 [==============================] - 0s 8ms/step - loss: 0.2511\n",
            "Epoch 84/200\n",
            "1/1 [==============================] - 0s 6ms/step - loss: 0.2460\n",
            "Epoch 85/200\n",
            "1/1 [==============================] - 0s 7ms/step - loss: 0.2409\n",
            "Epoch 86/200\n",
            "1/1 [==============================] - 0s 8ms/step - loss: 0.2360\n",
            "Epoch 87/200\n",
            "1/1 [==============================] - 0s 8ms/step - loss: 0.2311\n",
            "Epoch 88/200\n",
            "1/1 [==============================] - 0s 9ms/step - loss: 0.2264\n",
            "Epoch 89/200\n",
            "1/1 [==============================] - 0s 8ms/step - loss: 0.2217\n",
            "Epoch 90/200\n",
            "1/1 [==============================] - 0s 7ms/step - loss: 0.2172\n",
            "Epoch 91/200\n",
            "1/1 [==============================] - 0s 8ms/step - loss: 0.2127\n",
            "Epoch 92/200\n",
            "1/1 [==============================] - 0s 8ms/step - loss: 0.2083\n",
            "Epoch 93/200\n",
            "1/1 [==============================] - 0s 8ms/step - loss: 0.2041\n",
            "Epoch 94/200\n",
            "1/1 [==============================] - 0s 7ms/step - loss: 0.1999\n",
            "Epoch 95/200\n",
            "1/1 [==============================] - 0s 11ms/step - loss: 0.1958\n",
            "Epoch 96/200\n",
            "1/1 [==============================] - 0s 8ms/step - loss: 0.1917\n",
            "Epoch 97/200\n",
            "1/1 [==============================] - 0s 9ms/step - loss: 0.1878\n",
            "Epoch 98/200\n",
            "1/1 [==============================] - 0s 17ms/step - loss: 0.1839\n",
            "Epoch 99/200\n",
            "1/1 [==============================] - 0s 11ms/step - loss: 0.1802\n",
            "Epoch 100/200\n",
            "1/1 [==============================] - 0s 8ms/step - loss: 0.1765\n",
            "Epoch 101/200\n",
            "1/1 [==============================] - 0s 12ms/step - loss: 0.1728\n",
            "Epoch 102/200\n",
            "1/1 [==============================] - 0s 7ms/step - loss: 0.1693\n",
            "Epoch 103/200\n",
            "1/1 [==============================] - 0s 8ms/step - loss: 0.1658\n",
            "Epoch 104/200\n",
            "1/1 [==============================] - 0s 8ms/step - loss: 0.1624\n",
            "Epoch 105/200\n",
            "1/1 [==============================] - 0s 12ms/step - loss: 0.1591\n",
            "Epoch 106/200\n",
            "1/1 [==============================] - 0s 12ms/step - loss: 0.1558\n",
            "Epoch 107/200\n",
            "1/1 [==============================] - 0s 8ms/step - loss: 0.1526\n",
            "Epoch 108/200\n",
            "1/1 [==============================] - 0s 7ms/step - loss: 0.1495\n",
            "Epoch 109/200\n",
            "1/1 [==============================] - 0s 6ms/step - loss: 0.1464\n",
            "Epoch 110/200\n",
            "1/1 [==============================] - 0s 6ms/step - loss: 0.1434\n",
            "Epoch 111/200\n",
            "1/1 [==============================] - 0s 6ms/step - loss: 0.1404\n",
            "Epoch 112/200\n",
            "1/1 [==============================] - 0s 6ms/step - loss: 0.1376\n",
            "Epoch 113/200\n",
            "1/1 [==============================] - 0s 10ms/step - loss: 0.1347\n",
            "Epoch 114/200\n",
            "1/1 [==============================] - 0s 6ms/step - loss: 0.1320\n",
            "Epoch 115/200\n",
            "1/1 [==============================] - 0s 11ms/step - loss: 0.1293\n",
            "Epoch 116/200\n",
            "1/1 [==============================] - 0s 6ms/step - loss: 0.1266\n",
            "Epoch 117/200\n",
            "1/1 [==============================] - 0s 10ms/step - loss: 0.1240\n",
            "Epoch 118/200\n",
            "1/1 [==============================] - 0s 6ms/step - loss: 0.1215\n",
            "Epoch 119/200\n",
            "1/1 [==============================] - 0s 6ms/step - loss: 0.1190\n",
            "Epoch 120/200\n",
            "1/1 [==============================] - 0s 6ms/step - loss: 0.1165\n",
            "Epoch 121/200\n",
            "1/1 [==============================] - 0s 6ms/step - loss: 0.1141\n",
            "Epoch 122/200\n",
            "1/1 [==============================] - 0s 6ms/step - loss: 0.1118\n",
            "Epoch 123/200\n",
            "1/1 [==============================] - 0s 8ms/step - loss: 0.1095\n",
            "Epoch 124/200\n",
            "1/1 [==============================] - 0s 8ms/step - loss: 0.1072\n",
            "Epoch 125/200\n",
            "1/1 [==============================] - 0s 9ms/step - loss: 0.1050\n",
            "Epoch 126/200\n",
            "1/1 [==============================] - 0s 13ms/step - loss: 0.1029\n",
            "Epoch 127/200\n",
            "1/1 [==============================] - 0s 11ms/step - loss: 0.1008\n",
            "Epoch 128/200\n",
            "1/1 [==============================] - 0s 9ms/step - loss: 0.0987\n",
            "Epoch 129/200\n",
            "1/1 [==============================] - 0s 9ms/step - loss: 0.0967\n",
            "Epoch 130/200\n",
            "1/1 [==============================] - 0s 9ms/step - loss: 0.0947\n",
            "Epoch 131/200\n",
            "1/1 [==============================] - 0s 8ms/step - loss: 0.0927\n",
            "Epoch 132/200\n",
            "1/1 [==============================] - 0s 7ms/step - loss: 0.0908\n",
            "Epoch 133/200\n",
            "1/1 [==============================] - 0s 14ms/step - loss: 0.0890\n",
            "Epoch 134/200\n",
            "1/1 [==============================] - 0s 10ms/step - loss: 0.0871\n",
            "Epoch 135/200\n",
            "1/1 [==============================] - 0s 9ms/step - loss: 0.0853\n",
            "Epoch 136/200\n",
            "1/1 [==============================] - 0s 8ms/step - loss: 0.0836\n",
            "Epoch 137/200\n",
            "1/1 [==============================] - 0s 9ms/step - loss: 0.0819\n",
            "Epoch 138/200\n",
            "1/1 [==============================] - 0s 7ms/step - loss: 0.0802\n",
            "Epoch 139/200\n",
            "1/1 [==============================] - 0s 9ms/step - loss: 0.0785\n",
            "Epoch 140/200\n",
            "1/1 [==============================] - 0s 8ms/step - loss: 0.0769\n",
            "Epoch 141/200\n",
            "1/1 [==============================] - 0s 7ms/step - loss: 0.0754\n",
            "Epoch 142/200\n",
            "1/1 [==============================] - 0s 8ms/step - loss: 0.0738\n",
            "Epoch 143/200\n",
            "1/1 [==============================] - 0s 9ms/step - loss: 0.0723\n",
            "Epoch 144/200\n",
            "1/1 [==============================] - 0s 7ms/step - loss: 0.0708\n",
            "Epoch 145/200\n",
            "1/1 [==============================] - 0s 7ms/step - loss: 0.0693\n",
            "Epoch 146/200\n",
            "1/1 [==============================] - 0s 7ms/step - loss: 0.0679\n",
            "Epoch 147/200\n",
            "1/1 [==============================] - 0s 10ms/step - loss: 0.0665\n",
            "Epoch 148/200\n",
            "1/1 [==============================] - 0s 9ms/step - loss: 0.0652\n",
            "Epoch 149/200\n",
            "1/1 [==============================] - 0s 11ms/step - loss: 0.0638\n",
            "Epoch 150/200\n",
            "1/1 [==============================] - 0s 11ms/step - loss: 0.0625\n",
            "Epoch 151/200\n",
            "1/1 [==============================] - 0s 8ms/step - loss: 0.0612\n",
            "Epoch 152/200\n",
            "1/1 [==============================] - 0s 8ms/step - loss: 0.0600\n",
            "Epoch 153/200\n",
            "1/1 [==============================] - 0s 10ms/step - loss: 0.0587\n",
            "Epoch 154/200\n",
            "1/1 [==============================] - 0s 10ms/step - loss: 0.0575\n",
            "Epoch 155/200\n",
            "1/1 [==============================] - 0s 13ms/step - loss: 0.0564\n",
            "Epoch 156/200\n",
            "1/1 [==============================] - 0s 8ms/step - loss: 0.0552\n",
            "Epoch 157/200\n",
            "1/1 [==============================] - 0s 8ms/step - loss: 0.0541\n",
            "Epoch 158/200\n",
            "1/1 [==============================] - 0s 8ms/step - loss: 0.0529\n",
            "Epoch 159/200\n",
            "1/1 [==============================] - 0s 10ms/step - loss: 0.0519\n",
            "Epoch 160/200\n",
            "1/1 [==============================] - 0s 16ms/step - loss: 0.0508\n",
            "Epoch 161/200\n",
            "1/1 [==============================] - 0s 9ms/step - loss: 0.0498\n",
            "Epoch 162/200\n",
            "1/1 [==============================] - 0s 7ms/step - loss: 0.0487\n",
            "Epoch 163/200\n",
            "1/1 [==============================] - 0s 7ms/step - loss: 0.0477\n",
            "Epoch 164/200\n",
            "1/1 [==============================] - 0s 9ms/step - loss: 0.0467\n",
            "Epoch 165/200\n",
            "1/1 [==============================] - 0s 8ms/step - loss: 0.0458\n",
            "Epoch 166/200\n",
            "1/1 [==============================] - 0s 7ms/step - loss: 0.0448\n",
            "Epoch 167/200\n",
            "1/1 [==============================] - 0s 8ms/step - loss: 0.0439\n",
            "Epoch 168/200\n",
            "1/1 [==============================] - 0s 7ms/step - loss: 0.0430\n",
            "Epoch 169/200\n",
            "1/1 [==============================] - 0s 10ms/step - loss: 0.0421\n",
            "Epoch 170/200\n",
            "1/1 [==============================] - 0s 8ms/step - loss: 0.0413\n",
            "Epoch 171/200\n",
            "1/1 [==============================] - 0s 8ms/step - loss: 0.0404\n",
            "Epoch 172/200\n",
            "1/1 [==============================] - 0s 7ms/step - loss: 0.0396\n",
            "Epoch 173/200\n",
            "1/1 [==============================] - 0s 9ms/step - loss: 0.0388\n",
            "Epoch 174/200\n",
            "1/1 [==============================] - 0s 10ms/step - loss: 0.0380\n",
            "Epoch 175/200\n",
            "1/1 [==============================] - 0s 8ms/step - loss: 0.0372\n",
            "Epoch 176/200\n",
            "1/1 [==============================] - 0s 8ms/step - loss: 0.0364\n",
            "Epoch 177/200\n",
            "1/1 [==============================] - 0s 10ms/step - loss: 0.0357\n",
            "Epoch 178/200\n",
            "1/1 [==============================] - 0s 9ms/step - loss: 0.0350\n",
            "Epoch 179/200\n",
            "1/1 [==============================] - 0s 11ms/step - loss: 0.0342\n",
            "Epoch 180/200\n",
            "1/1 [==============================] - 0s 7ms/step - loss: 0.0335\n",
            "Epoch 181/200\n",
            "1/1 [==============================] - 0s 7ms/step - loss: 0.0329\n",
            "Epoch 182/200\n",
            "1/1 [==============================] - 0s 8ms/step - loss: 0.0322\n",
            "Epoch 183/200\n",
            "1/1 [==============================] - 0s 10ms/step - loss: 0.0315\n",
            "Epoch 184/200\n",
            "1/1 [==============================] - 0s 8ms/step - loss: 0.0309\n",
            "Epoch 185/200\n",
            "1/1 [==============================] - 0s 9ms/step - loss: 0.0302\n",
            "Epoch 186/200\n",
            "1/1 [==============================] - 0s 10ms/step - loss: 0.0296\n",
            "Epoch 187/200\n",
            "1/1 [==============================] - 0s 12ms/step - loss: 0.0290\n",
            "Epoch 188/200\n",
            "1/1 [==============================] - 0s 10ms/step - loss: 0.0284\n",
            "Epoch 189/200\n",
            "1/1 [==============================] - 0s 6ms/step - loss: 0.0278\n",
            "Epoch 190/200\n",
            "1/1 [==============================] - 0s 6ms/step - loss: 0.0273\n",
            "Epoch 191/200\n",
            "1/1 [==============================] - 0s 5ms/step - loss: 0.0267\n",
            "Epoch 192/200\n",
            "1/1 [==============================] - 0s 6ms/step - loss: 0.0261\n",
            "Epoch 193/200\n",
            "1/1 [==============================] - 0s 11ms/step - loss: 0.0256\n",
            "Epoch 194/200\n",
            "1/1 [==============================] - 0s 9ms/step - loss: 0.0251\n",
            "Epoch 195/200\n",
            "1/1 [==============================] - 0s 6ms/step - loss: 0.0246\n",
            "Epoch 196/200\n",
            "1/1 [==============================] - 0s 6ms/step - loss: 0.0241\n",
            "Epoch 197/200\n",
            "1/1 [==============================] - 0s 9ms/step - loss: 0.0236\n",
            "Epoch 198/200\n",
            "1/1 [==============================] - 0s 6ms/step - loss: 0.0231\n",
            "Epoch 199/200\n",
            "1/1 [==============================] - 0s 13ms/step - loss: 0.0226\n",
            "Epoch 200/200\n",
            "1/1 [==============================] - 0s 5ms/step - loss: 0.0221\n"
          ]
        }
      ]
    },
    {
      "cell_type": "code",
      "source": [
        "plt.title('Loss Curve')\n",
        "plt.plot(history1.history['loss'])\n",
        "plt.ylabel('loss')\n",
        "plt.xlabel('epoch')\n",
        "\n",
        "plt.show()"
      ],
      "metadata": {
        "colab": {
          "base_uri": "https://localhost:8080/",
          "height": 472
        },
        "id": "AjmI4mc8L-zL",
        "outputId": "fc1cbe2a-84b2-4ed7-9360-82ec62718cc8"
      },
      "execution_count": 14,
      "outputs": [
        {
          "output_type": "display_data",
          "data": {
            "text/plain": [
              "<Figure size 640x480 with 1 Axes>"
            ],
            "image/png": "[encoded data removed]"
          },
          "metadata": {}
        }
      ]
    },
    {
      "cell_type": "code",
      "source": [
        "model.predict([10.0])"
      ],
      "metadata": {
        "colab": {
          "base_uri": "https://localhost:8080/"
        },
        "id": "ACgOvlCTMA1T",
        "outputId": "1cf64a35-316f-40d5-8f6f-a8f469ba9481"
      },
      "execution_count": 15,
      "outputs": [
        {
          "output_type": "stream",
          "name": "stdout",
          "text": [
            "1/1 [==============================] - 0s 82ms/step\n"
          ]
        },
        {
          "output_type": "execute_result",
          "data": {
            "text/plain": [
              "array([[18.565823]], dtype=float32)"
            ]
          },
          "metadata": {},
          "execution_count": 15
        }
      ]
    },
    {
      "cell_type": "markdown",
      "source": [
        "## Part 3: Neural Networks"
      ],
      "metadata": {
        "id": "x_53LrxjMEe5"
      }
    },
    {
      "cell_type": "markdown",
      "source": [
        "### 3.1 Multilayer Perceptron\n",
        "![image](https://www.researchgate.net/profile/Facundo_Bre/publication/321259051/figure/fig1/AS:614329250496529@1523478915726/Artificial-neural-network-architecture-ANN-i-h-1-h-2-h-n-o.png)\n",
        "\n",
        "As the name suggests, a multilayer perceptron (MLP) is a network of neurons or perceptrons arranged and connected horizontally and vertically. In this setup, neurons share knowledge along their respective layer and pass the activated values to the following layers for a sense of \"deep\" learning. The concept of MLP gave rise to the new field of machine learning—Deep Learning, where we study Artificial Neural Networks (ANN).\n",
        "\n",
        "An ANN consists of three parts:\n",
        "* Input layer\n",
        "* Hidden layer(s)\n",
        "* Output layer\n",
        "However, when counting the number of layers of a neural network, we exclude the input layer since no learning happens at the input layer or Layer 0 ($L0$)."
      ],
      "metadata": {
        "id": "jGorWcv9MJF3"
      }
    },
    {
      "cell_type": "code",
      "source": [
        "### Multilayer Perceptron\n",
        "model = tf.keras.Sequential([\n",
        "  tf.keras.layers.Dense(units=16,input_shape=[1]), #Hidden Layer\n",
        "  tf.keras.layers.Dense(units=1) #Output layer\n",
        "])\n",
        "\n",
        "lr=0.01\n",
        "model.compile(optimizer=SGD(learning_rate=lr),\n",
        "              loss=MSE)\n",
        "model.summary()\n",
        "history2=model.fit(X,y, epochs=200)"
      ],
      "metadata": {
        "colab": {
          "base_uri": "https://localhost:8080/"
        },
        "id": "8O2oIKnMMCVP",
        "outputId": "a5a5637a-f2e0-427c-a3e3-28af989fa67b"
      },
      "execution_count": 16,
      "outputs": [
        {
          "output_type": "stream",
          "name": "stdout",
          "text": [
            "Model: \"sequential_1\"\n",
            "_________________________________________________________________\n",
            " Layer (type)                Output Shape              Param #   \n",
            "=================================================================\n",
            " dense_1 (Dense)             (None, 16)                32        \n",
            "                                                                 \n",
            " dense_2 (Dense)             (None, 1)                 17        \n",
            "                                                                 \n",
            "=================================================================\n",
            "Total params: 49 (196.00 Byte)\n",
            "Trainable params: 49 (196.00 Byte)\n",
            "Non-trainable params: 0 (0.00 Byte)\n",
            "_________________________________________________________________\n",
            "Epoch 1/200\n",
            "1/1 [==============================] - 0s 481ms/step - loss: 19.9278\n",
            "Epoch 2/200\n",
            "1/1 [==============================] - 0s 14ms/step - loss: 8.8486\n",
            "Epoch 3/200\n",
            "1/1 [==============================] - 0s 16ms/step - loss: 4.1647\n",
            "Epoch 4/200\n",
            "1/1 [==============================] - 0s 16ms/step - loss: 2.0997\n",
            "Epoch 5/200\n",
            "1/1 [==============================] - 0s 13ms/step - loss: 1.2668\n",
            "Epoch 6/200\n",
            "1/1 [==============================] - 0s 23ms/step - loss: 0.9505\n",
            "Epoch 7/200\n",
            "1/1 [==============================] - 0s 12ms/step - loss: 0.8202\n",
            "Epoch 8/200\n",
            "1/1 [==============================] - 0s 12ms/step - loss: 0.7503\n",
            "Epoch 9/200\n",
            "1/1 [==============================] - 0s 12ms/step - loss: 0.6995\n",
            "Epoch 10/200\n",
            "1/1 [==============================] - 0s 12ms/step - loss: 0.6558\n",
            "Epoch 11/200\n",
            "1/1 [==============================] - 0s 12ms/step - loss: 0.6157\n",
            "Epoch 12/200\n",
            "1/1 [==============================] - 0s 12ms/step - loss: 0.5781\n",
            "Epoch 13/200\n",
            "1/1 [==============================] - 0s 18ms/step - loss: 0.5427\n",
            "Epoch 14/200\n",
            "1/1 [==============================] - 0s 11ms/step - loss: 0.5094\n",
            "Epoch 15/200\n",
            "1/1 [==============================] - 0s 15ms/step - loss: 0.4779\n",
            "Epoch 16/200\n",
            "1/1 [==============================] - 0s 18ms/step - loss: 0.4483\n",
            "Epoch 17/200\n",
            "1/1 [==============================] - 0s 11ms/step - loss: 0.4203\n",
            "Epoch 18/200\n",
            "1/1 [==============================] - 0s 11ms/step - loss: 0.3940\n",
            "Epoch 19/200\n",
            "1/1 [==============================] - 0s 11ms/step - loss: 0.3692\n",
            "Epoch 20/200\n",
            "1/1 [==============================] - 0s 15ms/step - loss: 0.3458\n",
            "Epoch 21/200\n",
            "1/1 [==============================] - 0s 11ms/step - loss: 0.3238\n",
            "Epoch 22/200\n",
            "1/1 [==============================] - 0s 11ms/step - loss: 0.3031\n",
            "Epoch 23/200\n",
            "1/1 [==============================] - 0s 11ms/step - loss: 0.2837\n",
            "Epoch 24/200\n",
            "1/1 [==============================] - 0s 12ms/step - loss: 0.2654\n",
            "Epoch 25/200\n",
            "1/1 [==============================] - 0s 11ms/step - loss: 0.2482\n",
            "Epoch 26/200\n",
            "1/1 [==============================] - 0s 10ms/step - loss: 0.2320\n",
            "Epoch 27/200\n",
            "1/1 [==============================] - 0s 15ms/step - loss: 0.2169\n",
            "Epoch 28/200\n",
            "1/1 [==============================] - 0s 10ms/step - loss: 0.2026\n",
            "Epoch 29/200\n",
            "1/1 [==============================] - 0s 15ms/step - loss: 0.1892\n",
            "Epoch 30/200\n",
            "1/1 [==============================] - 0s 58ms/step - loss: 0.1767\n",
            "Epoch 31/200\n",
            "1/1 [==============================] - 0s 17ms/step - loss: 0.1650\n",
            "Epoch 32/200\n",
            "1/1 [==============================] - 0s 20ms/step - loss: 0.1539\n",
            "Epoch 33/200\n",
            "1/1 [==============================] - 0s 16ms/step - loss: 0.1436\n",
            "Epoch 34/200\n",
            "1/1 [==============================] - 0s 17ms/step - loss: 0.1339\n",
            "Epoch 35/200\n",
            "1/1 [==============================] - 0s 13ms/step - loss: 0.1249\n",
            "Epoch 36/200\n",
            "1/1 [==============================] - 0s 12ms/step - loss: 0.1164\n",
            "Epoch 37/200\n",
            "1/1 [==============================] - 0s 13ms/step - loss: 0.1085\n",
            "Epoch 38/200\n",
            "1/1 [==============================] - 0s 28ms/step - loss: 0.1011\n",
            "Epoch 39/200\n",
            "1/1 [==============================] - 0s 15ms/step - loss: 0.0941\n",
            "Epoch 40/200\n",
            "1/1 [==============================] - 0s 14ms/step - loss: 0.0876\n",
            "Epoch 41/200\n",
            "1/1 [==============================] - 0s 15ms/step - loss: 0.0816\n",
            "Epoch 42/200\n",
            "1/1 [==============================] - 0s 15ms/step - loss: 0.0759\n",
            "Epoch 43/200\n",
            "1/1 [==============================] - 0s 12ms/step - loss: 0.0707\n",
            "Epoch 44/200\n",
            "1/1 [==============================] - 0s 16ms/step - loss: 0.0657\n",
            "Epoch 45/200\n",
            "1/1 [==============================] - 0s 14ms/step - loss: 0.0611\n",
            "Epoch 46/200\n",
            "1/1 [==============================] - 0s 14ms/step - loss: 0.0568\n",
            "Epoch 47/200\n",
            "1/1 [==============================] - 0s 15ms/step - loss: 0.0528\n",
            "Epoch 48/200\n",
            "1/1 [==============================] - 0s 15ms/step - loss: 0.0491\n",
            "Epoch 49/200\n",
            "1/1 [==============================] - 0s 15ms/step - loss: 0.0456\n",
            "Epoch 50/200\n",
            "1/1 [==============================] - 0s 16ms/step - loss: 0.0424\n",
            "Epoch 51/200\n",
            "1/1 [==============================] - 0s 14ms/step - loss: 0.0394\n",
            "Epoch 52/200\n",
            "1/1 [==============================] - 0s 15ms/step - loss: 0.0366\n",
            "Epoch 53/200\n",
            "1/1 [==============================] - 0s 15ms/step - loss: 0.0340\n",
            "Epoch 54/200\n",
            "1/1 [==============================] - 0s 15ms/step - loss: 0.0315\n",
            "Epoch 55/200\n",
            "1/1 [==============================] - 0s 17ms/step - loss: 0.0293\n",
            "Epoch 56/200\n",
            "1/1 [==============================] - 0s 14ms/step - loss: 0.0272\n",
            "Epoch 57/200\n",
            "1/1 [==============================] - 0s 18ms/step - loss: 0.0252\n",
            "Epoch 58/200\n",
            "1/1 [==============================] - 0s 14ms/step - loss: 0.0234\n",
            "Epoch 59/200\n",
            "1/1 [==============================] - 0s 16ms/step - loss: 0.0217\n",
            "Epoch 60/200\n",
            "1/1 [==============================] - 0s 11ms/step - loss: 0.0201\n",
            "Epoch 61/200\n",
            "1/1 [==============================] - 0s 8ms/step - loss: 0.0187\n",
            "Epoch 62/200\n",
            "1/1 [==============================] - 0s 20ms/step - loss: 0.0173\n",
            "Epoch 63/200\n",
            "1/1 [==============================] - 0s 14ms/step - loss: 0.0160\n",
            "Epoch 64/200\n",
            "1/1 [==============================] - 0s 14ms/step - loss: 0.0149\n",
            "Epoch 65/200\n",
            "1/1 [==============================] - 0s 15ms/step - loss: 0.0138\n",
            "Epoch 66/200\n",
            "1/1 [==============================] - 0s 16ms/step - loss: 0.0128\n",
            "Epoch 67/200\n",
            "1/1 [==============================] - 0s 15ms/step - loss: 0.0118\n",
            "Epoch 68/200\n",
            "1/1 [==============================] - 0s 13ms/step - loss: 0.0110\n",
            "Epoch 69/200\n",
            "1/1 [==============================] - 0s 8ms/step - loss: 0.0102\n",
            "Epoch 70/200\n",
            "1/1 [==============================] - 0s 9ms/step - loss: 0.0094\n",
            "Epoch 71/200\n",
            "1/1 [==============================] - 0s 9ms/step - loss: 0.0087\n",
            "Epoch 72/200\n",
            "1/1 [==============================] - 0s 9ms/step - loss: 0.0081\n",
            "Epoch 73/200\n",
            "1/1 [==============================] - 0s 9ms/step - loss: 0.0075\n",
            "Epoch 74/200\n",
            "1/1 [==============================] - 0s 9ms/step - loss: 0.0069\n",
            "Epoch 75/200\n",
            "1/1 [==============================] - 0s 12ms/step - loss: 0.0064\n",
            "Epoch 76/200\n",
            "1/1 [==============================] - 0s 9ms/step - loss: 0.0059\n",
            "Epoch 77/200\n",
            "1/1 [==============================] - 0s 8ms/step - loss: 0.0055\n",
            "Epoch 78/200\n",
            "1/1 [==============================] - 0s 12ms/step - loss: 0.0051\n",
            "Epoch 79/200\n",
            "1/1 [==============================] - 0s 10ms/step - loss: 0.0047\n",
            "Epoch 80/200\n",
            "1/1 [==============================] - 0s 9ms/step - loss: 0.0044\n",
            "Epoch 81/200\n",
            "1/1 [==============================] - 0s 9ms/step - loss: 0.0040\n",
            "Epoch 82/200\n",
            "1/1 [==============================] - 0s 9ms/step - loss: 0.0037\n",
            "Epoch 83/200\n",
            "1/1 [==============================] - 0s 8ms/step - loss: 0.0035\n",
            "Epoch 84/200\n",
            "1/1 [==============================] - 0s 8ms/step - loss: 0.0032\n",
            "Epoch 85/200\n",
            "1/1 [==============================] - 0s 8ms/step - loss: 0.0030\n",
            "Epoch 86/200\n",
            "1/1 [==============================] - 0s 9ms/step - loss: 0.0027\n",
            "Epoch 87/200\n",
            "1/1 [==============================] - 0s 8ms/step - loss: 0.0025\n",
            "Epoch 88/200\n",
            "1/1 [==============================] - 0s 9ms/step - loss: 0.0023\n",
            "Epoch 89/200\n",
            "1/1 [==============================] - 0s 8ms/step - loss: 0.0022\n",
            "Epoch 90/200\n",
            "1/1 [==============================] - 0s 9ms/step - loss: 0.0020\n",
            "Epoch 91/200\n",
            "1/1 [==============================] - 0s 8ms/step - loss: 0.0019\n",
            "Epoch 92/200\n",
            "1/1 [==============================] - 0s 7ms/step - loss: 0.0017\n",
            "Epoch 93/200\n",
            "1/1 [==============================] - 0s 8ms/step - loss: 0.0016\n",
            "Epoch 94/200\n",
            "1/1 [==============================] - 0s 8ms/step - loss: 0.0015\n",
            "Epoch 95/200\n",
            "1/1 [==============================] - 0s 8ms/step - loss: 0.0014\n",
            "Epoch 96/200\n",
            "1/1 [==============================] - 0s 7ms/step - loss: 0.0013\n",
            "Epoch 97/200\n",
            "1/1 [==============================] - 0s 8ms/step - loss: 0.0012\n",
            "Epoch 98/200\n",
            "1/1 [==============================] - 0s 9ms/step - loss: 0.0011\n",
            "Epoch 99/200\n",
            "1/1 [==============================] - 0s 9ms/step - loss: 9.9054e-04\n",
            "Epoch 100/200\n",
            "1/1 [==============================] - 0s 11ms/step - loss: 9.1583e-04\n",
            "Epoch 101/200\n",
            "1/1 [==============================] - 0s 8ms/step - loss: 8.4672e-04\n",
            "Epoch 102/200\n",
            "1/1 [==============================] - 0s 9ms/step - loss: 7.8281e-04\n",
            "Epoch 103/200\n",
            "1/1 [==============================] - 0s 8ms/step - loss: 7.2369e-04\n",
            "Epoch 104/200\n",
            "1/1 [==============================] - 0s 8ms/step - loss: 6.6902e-04\n",
            "Epoch 105/200\n",
            "1/1 [==============================] - 0s 7ms/step - loss: 6.1846e-04\n",
            "Epoch 106/200\n",
            "1/1 [==============================] - 0s 6ms/step - loss: 5.7171e-04\n",
            "Epoch 107/200\n",
            "1/1 [==============================] - 0s 10ms/step - loss: 5.2847e-04\n",
            "Epoch 108/200\n",
            "1/1 [==============================] - 0s 8ms/step - loss: 4.8849e-04\n",
            "Epoch 109/200\n",
            "1/1 [==============================] - 0s 9ms/step - loss: 4.5153e-04\n",
            "Epoch 110/200\n",
            "1/1 [==============================] - 0s 9ms/step - loss: 4.1735e-04\n",
            "Epoch 111/200\n",
            "1/1 [==============================] - 0s 9ms/step - loss: 3.8575e-04\n",
            "Epoch 112/200\n",
            "1/1 [==============================] - 0s 7ms/step - loss: 3.5654e-04\n",
            "Epoch 113/200\n",
            "1/1 [==============================] - 0s 7ms/step - loss: 3.2953e-04\n",
            "Epoch 114/200\n",
            "1/1 [==============================] - 0s 9ms/step - loss: 3.0455e-04\n",
            "Epoch 115/200\n",
            "1/1 [==============================] - 0s 8ms/step - loss: 2.8147e-04\n",
            "Epoch 116/200\n",
            "1/1 [==============================] - 0s 8ms/step - loss: 2.6014e-04\n",
            "Epoch 117/200\n",
            "1/1 [==============================] - 0s 8ms/step - loss: 2.4041e-04\n",
            "Epoch 118/200\n",
            "1/1 [==============================] - 0s 7ms/step - loss: 2.2218e-04\n",
            "Epoch 119/200\n",
            "1/1 [==============================] - 0s 8ms/step - loss: 2.0532e-04\n",
            "Epoch 120/200\n",
            "1/1 [==============================] - 0s 8ms/step - loss: 1.8974e-04\n",
            "Epoch 121/200\n",
            "1/1 [==============================] - 0s 9ms/step - loss: 1.7534e-04\n",
            "Epoch 122/200\n",
            "1/1 [==============================] - 0s 11ms/step - loss: 1.6203e-04\n",
            "Epoch 123/200\n",
            "1/1 [==============================] - 0s 9ms/step - loss: 1.4973e-04\n",
            "Epoch 124/200\n",
            "1/1 [==============================] - 0s 8ms/step - loss: 1.3836e-04\n",
            "Epoch 125/200\n",
            "1/1 [==============================] - 0s 8ms/step - loss: 1.2785e-04\n",
            "Epoch 126/200\n",
            "1/1 [==============================] - 0s 11ms/step - loss: 1.1814e-04\n",
            "Epoch 127/200\n",
            "1/1 [==============================] - 0s 9ms/step - loss: 1.0917e-04\n",
            "Epoch 128/200\n",
            "1/1 [==============================] - 0s 8ms/step - loss: 1.0087e-04\n",
            "Epoch 129/200\n",
            "1/1 [==============================] - 0s 8ms/step - loss: 9.3206e-05\n",
            "Epoch 130/200\n",
            "1/1 [==============================] - 0s 8ms/step - loss: 8.6125e-05\n",
            "Epoch 131/200\n",
            "1/1 [==============================] - 0s 9ms/step - loss: 7.9578e-05\n",
            "Epoch 132/200\n",
            "1/1 [==============================] - 0s 9ms/step - loss: 7.3527e-05\n",
            "Epoch 133/200\n",
            "1/1 [==============================] - 0s 10ms/step - loss: 6.7937e-05\n",
            "Epoch 134/200\n",
            "1/1 [==============================] - 0s 9ms/step - loss: 6.2772e-05\n",
            "Epoch 135/200\n",
            "1/1 [==============================] - 0s 8ms/step - loss: 5.7999e-05\n",
            "Epoch 136/200\n",
            "1/1 [==============================] - 0s 8ms/step - loss: 5.3587e-05\n",
            "Epoch 137/200\n",
            "1/1 [==============================] - 0s 7ms/step - loss: 4.9512e-05\n",
            "Epoch 138/200\n",
            "1/1 [==============================] - 0s 9ms/step - loss: 4.5744e-05\n",
            "Epoch 139/200\n",
            "1/1 [==============================] - 0s 8ms/step - loss: 4.2265e-05\n",
            "Epoch 140/200\n",
            "1/1 [==============================] - 0s 10ms/step - loss: 3.9049e-05\n",
            "Epoch 141/200\n",
            "1/1 [==============================] - 0s 10ms/step - loss: 3.6078e-05\n",
            "Epoch 142/200\n",
            "1/1 [==============================] - 0s 10ms/step - loss: 3.3333e-05\n",
            "Epoch 143/200\n",
            "1/1 [==============================] - 0s 11ms/step - loss: 3.0796e-05\n",
            "Epoch 144/200\n",
            "1/1 [==============================] - 0s 11ms/step - loss: 2.8452e-05\n",
            "Epoch 145/200\n",
            "1/1 [==============================] - 0s 10ms/step - loss: 2.6285e-05\n",
            "Epoch 146/200\n",
            "1/1 [==============================] - 0s 9ms/step - loss: 2.4286e-05\n",
            "Epoch 147/200\n",
            "1/1 [==============================] - 0s 11ms/step - loss: 2.2436e-05\n",
            "Epoch 148/200\n",
            "1/1 [==============================] - 0s 10ms/step - loss: 2.0728e-05\n",
            "Epoch 149/200\n",
            "1/1 [==============================] - 0s 12ms/step - loss: 1.9150e-05\n",
            "Epoch 150/200\n",
            "1/1 [==============================] - 0s 10ms/step - loss: 1.7692e-05\n",
            "Epoch 151/200\n",
            "1/1 [==============================] - 0s 12ms/step - loss: 1.6344e-05\n",
            "Epoch 152/200\n",
            "1/1 [==============================] - 0s 12ms/step - loss: 1.5100e-05\n",
            "Epoch 153/200\n",
            "1/1 [==============================] - 0s 12ms/step - loss: 1.3950e-05\n",
            "Epoch 154/200\n",
            "1/1 [==============================] - 0s 7ms/step - loss: 1.2887e-05\n",
            "Epoch 155/200\n",
            "1/1 [==============================] - 0s 14ms/step - loss: 1.1906e-05\n",
            "Epoch 156/200\n",
            "1/1 [==============================] - 0s 8ms/step - loss: 1.0999e-05\n",
            "Epoch 157/200\n",
            "1/1 [==============================] - 0s 8ms/step - loss: 1.0162e-05\n",
            "Epoch 158/200\n",
            "1/1 [==============================] - 0s 8ms/step - loss: 9.3873e-06\n",
            "Epoch 159/200\n",
            "1/1 [==============================] - 0s 8ms/step - loss: 8.6720e-06\n",
            "Epoch 160/200\n",
            "1/1 [==============================] - 0s 9ms/step - loss: 8.0116e-06\n",
            "Epoch 161/200\n",
            "1/1 [==============================] - 0s 8ms/step - loss: 7.4011e-06\n",
            "Epoch 162/200\n",
            "1/1 [==============================] - 0s 11ms/step - loss: 6.8375e-06\n",
            "Epoch 163/200\n",
            "1/1 [==============================] - 0s 11ms/step - loss: 6.3164e-06\n",
            "Epoch 164/200\n",
            "1/1 [==============================] - 0s 11ms/step - loss: 5.8356e-06\n",
            "Epoch 165/200\n",
            "1/1 [==============================] - 0s 11ms/step - loss: 5.3907e-06\n",
            "Epoch 166/200\n",
            "1/1 [==============================] - 0s 11ms/step - loss: 4.9804e-06\n",
            "Epoch 167/200\n",
            "1/1 [==============================] - 0s 8ms/step - loss: 4.6008e-06\n",
            "Epoch 168/200\n",
            "1/1 [==============================] - 0s 7ms/step - loss: 4.2507e-06\n",
            "Epoch 169/200\n",
            "1/1 [==============================] - 0s 8ms/step - loss: 3.9261e-06\n",
            "Epoch 170/200\n",
            "1/1 [==============================] - 0s 8ms/step - loss: 3.6272e-06\n",
            "Epoch 171/200\n",
            "1/1 [==============================] - 0s 8ms/step - loss: 3.3509e-06\n",
            "Epoch 172/200\n",
            "1/1 [==============================] - 0s 8ms/step - loss: 3.0955e-06\n",
            "Epoch 173/200\n",
            "1/1 [==============================] - 0s 9ms/step - loss: 2.8589e-06\n",
            "Epoch 174/200\n",
            "1/1 [==============================] - 0s 8ms/step - loss: 2.6415e-06\n",
            "Epoch 175/200\n",
            "1/1 [==============================] - 0s 9ms/step - loss: 2.4401e-06\n",
            "Epoch 176/200\n",
            "1/1 [==============================] - 0s 8ms/step - loss: 2.2541e-06\n",
            "Epoch 177/200\n",
            "1/1 [==============================] - 0s 8ms/step - loss: 2.0823e-06\n",
            "Epoch 178/200\n",
            "1/1 [==============================] - 0s 8ms/step - loss: 1.9235e-06\n",
            "Epoch 179/200\n",
            "1/1 [==============================] - 0s 8ms/step - loss: 1.7767e-06\n",
            "Epoch 180/200\n",
            "1/1 [==============================] - 0s 12ms/step - loss: 1.6415e-06\n",
            "Epoch 181/200\n",
            "1/1 [==============================] - 0s 10ms/step - loss: 1.5164e-06\n",
            "Epoch 182/200\n",
            "1/1 [==============================] - 0s 9ms/step - loss: 1.4007e-06\n",
            "Epoch 183/200\n",
            "1/1 [==============================] - 0s 7ms/step - loss: 1.2941e-06\n",
            "Epoch 184/200\n",
            "1/1 [==============================] - 0s 10ms/step - loss: 1.1955e-06\n",
            "Epoch 185/200\n",
            "1/1 [==============================] - 0s 7ms/step - loss: 1.1042e-06\n",
            "Epoch 186/200\n",
            "1/1 [==============================] - 0s 10ms/step - loss: 1.0202e-06\n",
            "Epoch 187/200\n",
            "1/1 [==============================] - 0s 7ms/step - loss: 9.4239e-07\n",
            "Epoch 188/200\n",
            "1/1 [==============================] - 0s 13ms/step - loss: 8.7044e-07\n",
            "Epoch 189/200\n",
            "1/1 [==============================] - 0s 8ms/step - loss: 8.0419e-07\n",
            "Epoch 190/200\n",
            "1/1 [==============================] - 0s 10ms/step - loss: 7.4266e-07\n",
            "Epoch 191/200\n",
            "1/1 [==============================] - 0s 7ms/step - loss: 6.8606e-07\n",
            "Epoch 192/200\n",
            "1/1 [==============================] - 0s 10ms/step - loss: 6.3389e-07\n",
            "Epoch 193/200\n",
            "1/1 [==============================] - 0s 7ms/step - loss: 5.8546e-07\n",
            "Epoch 194/200\n",
            "1/1 [==============================] - 0s 10ms/step - loss: 5.4099e-07\n",
            "Epoch 195/200\n",
            "1/1 [==============================] - 0s 10ms/step - loss: 4.9962e-07\n",
            "Epoch 196/200\n",
            "1/1 [==============================] - 0s 11ms/step - loss: 4.6176e-07\n",
            "Epoch 197/200\n",
            "1/1 [==============================] - 0s 6ms/step - loss: 4.2637e-07\n",
            "Epoch 198/200\n",
            "1/1 [==============================] - 0s 11ms/step - loss: 3.9388e-07\n",
            "Epoch 199/200\n",
            "1/1 [==============================] - 0s 5ms/step - loss: 3.6389e-07\n",
            "Epoch 200/200\n",
            "1/1 [==============================] - 0s 6ms/step - loss: 3.3612e-07\n"
          ]
        }
      ]
    },
    {
      "cell_type": "code",
      "source": [
        "plt.title('Loss Curve')\n",
        "plt.plot(history1.history['loss'], label='Single Neuron')\n",
        "plt.plot(history2.history['loss'], label='MLP')\n",
        "plt.ylabel('loss')\n",
        "plt.xlabel('epoch')\n",
        "plt.legend()\n",
        "plt.show()"
      ],
      "metadata": {
        "colab": {
          "base_uri": "https://localhost:8080/",
          "height": 472
        },
        "id": "xH5l2BGnMLAE",
        "outputId": "e9d9e730-2c10-4a27-97bc-033e9420cab9"
      },
      "execution_count": 17,
      "outputs": [
        {
          "output_type": "display_data",
          "data": {
            "text/plain": [
              "<Figure size 640x480 with 1 Axes>"
            ],
            "image/png": "[encoded data removed]"
          },
          "metadata": {}
        }
      ]
    },
    {
      "cell_type": "code",
      "source": [
        "model.predict([10.0])"
      ],
      "metadata": {
        "colab": {
          "base_uri": "https://localhost:8080/"
        },
        "id": "XG0Cf69XMMr1",
        "outputId": "b17b3517-bba8-407a-dbfa-302c267a17ce"
      },
      "execution_count": 18,
      "outputs": [
        {
          "output_type": "stream",
          "name": "stdout",
          "text": [
            "1/1 [==============================] - 0s 63ms/step\n"
          ]
        },
        {
          "output_type": "execute_result",
          "data": {
            "text/plain": [
              "array([[18.998528]], dtype=float32)"
            ]
          },
          "metadata": {},
          "execution_count": 18
        }
      ]
    },
    {
      "cell_type": "markdown",
      "source": [
        "### 3.2 Activation Functions\n",
        "\n",
        "![image](https://www.researchgate.net/profile/Junxi_Feng/publication/335845675/figure/fig3/AS:804124836765699@1568729709680/Commonly-used-activation-functions-a-Sigmoid-b-Tanh-c-ReLU-and-d-LReLU.ppm)\n",
        "\n",
        "Back in our discussion about the neuron, we know that an activaiton function is quite crucial in getting the right values. Different activation functions are used for different objectives of learning. One factor to consider in choosing an activation function is the behavior of outputs per layer or the expected output of the machine learning task. Simply, identifying whether you are classifying data or predicting data could help which activation function to use.\n",
        "\n",
        "For a deeper discussion and implementation check out:\n",
        "* [Activation functions in TensorFlow](https://www.tensorflow.org/api_docs/python/tf/keras/activations)\n",
        "* [Activation functions in Keras](https://keras.io/api/layers/activations/)\n"
      ],
      "metadata": {
        "id": "ZH0cWenNMRVr"
      }
    },
    {
      "cell_type": "code",
      "source": [
        "from tensorflow.keras.layers import Activation\n",
        "from tensorflow.nn import sigmoid, tanh, softmax, relu, leaky_relu"
      ],
      "metadata": {
        "id": "SFiLlDF2MOLM"
      },
      "execution_count": 19,
      "outputs": []
    },
    {
      "cell_type": "code",
      "source": [
        "inputs = tf.constant([\n",
        "                      [0.0,-1.2,2.4,32.0,-20.1]\n",
        "                      ])\n",
        "print(inputs)"
      ],
      "metadata": {
        "colab": {
          "base_uri": "https://localhost:8080/"
        },
        "id": "0R7V-crKMVdz",
        "outputId": "74e32b29-63d9-4e97-e60e-edc484bc6567"
      },
      "execution_count": 20,
      "outputs": [
        {
          "output_type": "stream",
          "name": "stdout",
          "text": [
            "tf.Tensor([[  0.   -1.2   2.4  32.  -20.1]], shape=(1, 5), dtype=float32)\n"
          ]
        }
      ]
    },
    {
      "cell_type": "code",
      "source": [
        "### Sigmoid\n",
        "sigmoid_layer = Activation(sigmoid)\n",
        "sigmoid_layer(inputs).numpy()"
      ],
      "metadata": {
        "colab": {
          "base_uri": "https://localhost:8080/"
        },
        "id": "d0E2TN3AMWtC",
        "outputId": "aba40cce-d9c7-418b-e3fb-dbbd89090cc6"
      },
      "execution_count": 21,
      "outputs": [
        {
          "output_type": "execute_result",
          "data": {
            "text/plain": [
              "array([[5.0000000e-01, 2.3147520e-01, 9.1682732e-01, 1.0000000e+00,\n",
              "        1.8650081e-09]], dtype=float32)"
            ]
          },
          "metadata": {},
          "execution_count": 21
        }
      ]
    },
    {
      "cell_type": "code",
      "source": [
        "### Tanh\n",
        "tanh_layer = Activation(tanh)\n",
        "tanh_layer(inputs).numpy()"
      ],
      "metadata": {
        "colab": {
          "base_uri": "https://localhost:8080/"
        },
        "id": "qpV7cI6fMYKm",
        "outputId": "18f0cc7a-376c-41e3-d624-ab85b77f7e98"
      },
      "execution_count": 22,
      "outputs": [
        {
          "output_type": "execute_result",
          "data": {
            "text/plain": [
              "array([[ 0.        , -0.8336547 ,  0.98367494,  1.        , -1.        ]],\n",
              "      dtype=float32)"
            ]
          },
          "metadata": {},
          "execution_count": 22
        }
      ]
    },
    {
      "cell_type": "code",
      "source": [
        "### Softmax\n",
        "softmax_layer = Activation(softmax)\n",
        "softmax_layer(inputs).numpy()"
      ],
      "metadata": {
        "colab": {
          "base_uri": "https://localhost:8080/"
        },
        "id": "gPL3NTA5MfdR",
        "outputId": "88607ccb-081a-4077-f504-b33aa8061171"
      },
      "execution_count": 23,
      "outputs": [
        {
          "output_type": "execute_result",
          "data": {
            "text/plain": [
              "array([[1.2664166e-14, 3.8143706e-15, 1.3959928e-13, 1.0000000e+00,\n",
              "        2.3618817e-23]], dtype=float32)"
            ]
          },
          "metadata": {},
          "execution_count": 23
        }
      ]
    },
    {
      "cell_type": "code",
      "source": [
        "### ReLU\n",
        "relu_layer = Activation(relu)\n",
        "relu_layer(inputs).numpy()"
      ],
      "metadata": {
        "colab": {
          "base_uri": "https://localhost:8080/"
        },
        "id": "hHfTnlsvMgrh",
        "outputId": "82f7020f-09a3-4a80-cfa5-019a568b474b"
      },
      "execution_count": 24,
      "outputs": [
        {
          "output_type": "execute_result",
          "data": {
            "text/plain": [
              "array([[ 0. ,  0. ,  2.4, 32. ,  0. ]], dtype=float32)"
            ]
          },
          "metadata": {},
          "execution_count": 24
        }
      ]
    },
    {
      "cell_type": "code",
      "source": [
        "### Leaky ReLU\n",
        "lrelu_layer = Activation(leaky_relu)\n",
        "lrelu_layer(inputs).numpy()"
      ],
      "metadata": {
        "colab": {
          "base_uri": "https://localhost:8080/"
        },
        "id": "fUVSNtSlMh42",
        "outputId": "52044e8b-c32d-4b97-fe47-230c74a966ba"
      },
      "execution_count": 25,
      "outputs": [
        {
          "output_type": "execute_result",
          "data": {
            "text/plain": [
              "array([[ 0.        , -0.24000001,  2.4       , 32.        , -4.02      ]],\n",
              "      dtype=float32)"
            ]
          },
          "metadata": {},
          "execution_count": 25
        }
      ]
    },
    {
      "cell_type": "code",
      "source": [],
      "metadata": {
        "id": "lsPlFYWMMjQC"
      },
      "execution_count": null,
      "outputs": []
    }
  ]
}